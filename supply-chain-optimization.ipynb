{
 "cells": [
  {
   "cell_type": "code",
   "execution_count": 1,
   "id": "931848cb",
   "metadata": {
    "_cell_guid": "b1076dfc-b9ad-4769-8c92-a6c4dae69d19",
    "_uuid": "8f2839f25d086af736a60e9eeb907d3b93b6e0e5",
    "execution": {
     "iopub.execute_input": "2022-08-10T15:12:07.531617Z",
     "iopub.status.busy": "2022-08-10T15:12:07.530578Z",
     "iopub.status.idle": "2022-08-10T15:12:07.555184Z",
     "shell.execute_reply": "2022-08-10T15:12:07.553992Z"
    },
    "papermill": {
     "duration": 0.040033,
     "end_time": "2022-08-10T15:12:07.558096",
     "exception": false,
     "start_time": "2022-08-10T15:12:07.518063",
     "status": "completed"
    },
    "tags": []
   },
   "outputs": [
    {
     "name": "stdout",
     "output_type": "stream",
     "text": [
      "/kaggle/input/supply-chain-data/Supply chain logisitcs problem.xlsx\n"
     ]
    }
   ],
   "source": [
    "# This Python 3 environment comes with many helpful analytics libraries installed\n",
    "# It is defined by the kaggle/python Docker image: https://github.com/kaggle/docker-python\n",
    "# For example, here's several helpful packages to load\n",
    "\n",
    "import numpy as np # linear algebra\n",
    "import pandas as pd # data processing, CSV file I/O (e.g. pd.read_csv)\n",
    "\n",
    "# Input data files are available in the read-only \"../input/\" directory\n",
    "# For example, running this (by clicking run or pressing Shift+Enter) will list all files under the input directory\n",
    "\n",
    "import os\n",
    "for dirname, _, filenames in os.walk('/kaggle/input'):\n",
    "    for filename in filenames:\n",
    "        print(os.path.join(dirname, filename))\n",
    "\n",
    "# You can write up to 20GB to the current directory (/kaggle/working/) that gets preserved as output when you create a version using \"Save & Run All\" \n",
    "# You can also write temporary files to /kaggle/temp/, but they won't be saved outside of the current session"
   ]
  },
  {
   "cell_type": "markdown",
   "id": "eca4e32c",
   "metadata": {
    "papermill": {
     "duration": 0.008591,
     "end_time": "2022-08-10T15:12:07.575946",
     "exception": false,
     "start_time": "2022-08-10T15:12:07.567355",
     "status": "completed"
    },
    "tags": []
   },
   "source": [
    "# Supply Chain Optimization using PULP"
   ]
  },
  {
   "cell_type": "code",
   "execution_count": 2,
   "id": "bc6eb1c4",
   "metadata": {
    "execution": {
     "iopub.execute_input": "2022-08-10T15:12:07.595493Z",
     "iopub.status.busy": "2022-08-10T15:12:07.594789Z",
     "iopub.status.idle": "2022-08-10T15:12:21.472075Z",
     "shell.execute_reply": "2022-08-10T15:12:21.470504Z"
    },
    "papermill": {
     "duration": 13.890243,
     "end_time": "2022-08-10T15:12:21.475037",
     "exception": false,
     "start_time": "2022-08-10T15:12:07.584794",
     "status": "completed"
    },
    "tags": []
   },
   "outputs": [
    {
     "name": "stdout",
     "output_type": "stream",
     "text": [
      "Collecting openpyxl\r\n",
      "  Downloading openpyxl-3.0.10-py2.py3-none-any.whl (242 kB)\r\n",
      "\u001b[2K     \u001b[90m━━━━━━━━━━━━━━━━━━━━━━━━━━━━━━━━━━━━━━━\u001b[0m \u001b[32m242.1/242.1 kB\u001b[0m \u001b[31m1.5 MB/s\u001b[0m eta \u001b[36m0:00:00\u001b[0m\r\n",
      "\u001b[?25hCollecting et-xmlfile\r\n",
      "  Downloading et_xmlfile-1.1.0-py3-none-any.whl (4.7 kB)\r\n",
      "Installing collected packages: et-xmlfile, openpyxl\r\n",
      "Successfully installed et-xmlfile-1.1.0 openpyxl-3.0.10\r\n",
      "\u001b[33mWARNING: Running pip as the 'root' user can result in broken permissions and conflicting behaviour with the system package manager. It is recommended to use a virtual environment instead: https://pip.pypa.io/warnings/venv\u001b[0m\u001b[33m\r\n",
      "\u001b[0m"
     ]
    }
   ],
   "source": [
    "!pip install openpyxl"
   ]
  },
  {
   "cell_type": "code",
   "execution_count": 3,
   "id": "6961e3df",
   "metadata": {
    "execution": {
     "iopub.execute_input": "2022-08-10T15:12:21.496139Z",
     "iopub.status.busy": "2022-08-10T15:12:21.494867Z",
     "iopub.status.idle": "2022-08-10T15:12:24.431683Z",
     "shell.execute_reply": "2022-08-10T15:12:24.430344Z"
    },
    "papermill": {
     "duration": 2.950641,
     "end_time": "2022-08-10T15:12:24.434949",
     "exception": false,
     "start_time": "2022-08-10T15:12:21.484308",
     "status": "completed"
    },
    "tags": []
   },
   "outputs": [],
   "source": [
    "freight = pd.read_excel('/kaggle/input/supply-chain-data/Supply chain logisitcs problem.xlsx', sheet_name = 'FreightRates')\n",
    "order = pd.read_excel('/kaggle/input/supply-chain-data/Supply chain logisitcs problem.xlsx', sheet_name = 'OrderList')\n",
    "plant_ports = pd.read_excel('/kaggle/input/supply-chain-data/Supply chain logisitcs problem.xlsx', sheet_name = 'PlantPorts')\n",
    "prod_per_plant = pd.read_excel('/kaggle/input/supply-chain-data/Supply chain logisitcs problem.xlsx', sheet_name = 'ProductsPerPlant')\n",
    "vmi_cust = pd.read_excel('/kaggle/input/supply-chain-data/Supply chain logisitcs problem.xlsx', sheet_name = 'VmiCustomers')\n",
    "wh_cap = pd.read_excel('/kaggle/input/supply-chain-data/Supply chain logisitcs problem.xlsx', sheet_name = 'WhCapacities')\n",
    "wh_costs = pd.read_excel('/kaggle/input/supply-chain-data/Supply chain logisitcs problem.xlsx', sheet_name = 'WhCosts')"
   ]
  },
  {
   "cell_type": "code",
   "execution_count": 4,
   "id": "534a8d0b",
   "metadata": {
    "execution": {
     "iopub.execute_input": "2022-08-10T15:12:24.455162Z",
     "iopub.status.busy": "2022-08-10T15:12:24.454715Z",
     "iopub.status.idle": "2022-08-10T15:12:24.471410Z",
     "shell.execute_reply": "2022-08-10T15:12:24.470206Z"
    },
    "papermill": {
     "duration": 0.029546,
     "end_time": "2022-08-10T15:12:24.473694",
     "exception": false,
     "start_time": "2022-08-10T15:12:24.444148",
     "status": "completed"
    },
    "tags": []
   },
   "outputs": [
    {
     "data": {
      "text/plain": [
       "{'PORT08': 'PORT09',\n",
       " 'PORT10': 'PORT09',\n",
       " 'PORT09': 'PORT09',\n",
       " 'PORT11': 'PORT09',\n",
       " 'PORT04': 'PORT09',\n",
       " 'PORT02': 'PORT09',\n",
       " 'PORT03': 'PORT09',\n",
       " 'PORT07': 'PORT09',\n",
       " 'PORT05': 'PORT09',\n",
       " 'PORT06': 'PORT09'}"
      ]
     },
     "execution_count": 4,
     "metadata": {},
     "output_type": "execute_result"
    }
   ],
   "source": [
    "dict(zip(freight['orig_port_cd'],freight['dest_port_cd']))"
   ]
  },
  {
   "cell_type": "code",
   "execution_count": 5,
   "id": "646b0aef",
   "metadata": {
    "execution": {
     "iopub.execute_input": "2022-08-10T15:12:24.493917Z",
     "iopub.status.busy": "2022-08-10T15:12:24.493460Z",
     "iopub.status.idle": "2022-08-10T15:12:24.503857Z",
     "shell.execute_reply": "2022-08-10T15:12:24.502743Z"
    },
    "papermill": {
     "duration": 0.023361,
     "end_time": "2022-08-10T15:12:24.506218",
     "exception": false,
     "start_time": "2022-08-10T15:12:24.482857",
     "status": "completed"
    },
    "tags": []
   },
   "outputs": [
    {
     "data": {
      "text/plain": [
       "Carrier         0\n",
       "orig_port_cd    0\n",
       "dest_port_cd    0\n",
       "minm_wgh_qty    0\n",
       "max_wgh_qty     0\n",
       "svc_cd          0\n",
       "minimum cost    0\n",
       "rate            0\n",
       "mode_dsc        0\n",
       "tpt_day_cnt     0\n",
       "Carrier type    0\n",
       "dtype: int64"
      ]
     },
     "execution_count": 5,
     "metadata": {},
     "output_type": "execute_result"
    }
   ],
   "source": [
    "freight.isnull().sum()"
   ]
  },
  {
   "cell_type": "code",
   "execution_count": 6,
   "id": "df23b973",
   "metadata": {
    "execution": {
     "iopub.execute_input": "2022-08-10T15:12:24.526857Z",
     "iopub.status.busy": "2022-08-10T15:12:24.526398Z",
     "iopub.status.idle": "2022-08-10T15:12:24.538901Z",
     "shell.execute_reply": "2022-08-10T15:12:24.537789Z"
    },
    "papermill": {
     "duration": 0.025772,
     "end_time": "2022-08-10T15:12:24.541427",
     "exception": false,
     "start_time": "2022-08-10T15:12:24.515655",
     "status": "completed"
    },
    "tags": []
   },
   "outputs": [
    {
     "data": {
      "text/plain": [
       "Order ID                0\n",
       "Order Date              0\n",
       "Origin Port             0\n",
       "Carrier                 0\n",
       "TPT                     0\n",
       "Service Level           0\n",
       "Ship ahead day count    0\n",
       "Ship Late Day count     0\n",
       "Customer                0\n",
       "Product ID              0\n",
       "Plant Code              0\n",
       "Destination Port        0\n",
       "Unit quantity           0\n",
       "Weight                  0\n",
       "dtype: int64"
      ]
     },
     "execution_count": 6,
     "metadata": {},
     "output_type": "execute_result"
    }
   ],
   "source": [
    "order.isnull().sum()"
   ]
  },
  {
   "cell_type": "code",
   "execution_count": 7,
   "id": "e3582c7b",
   "metadata": {
    "execution": {
     "iopub.execute_input": "2022-08-10T15:12:24.564023Z",
     "iopub.status.busy": "2022-08-10T15:12:24.563632Z",
     "iopub.status.idle": "2022-08-10T15:12:24.572252Z",
     "shell.execute_reply": "2022-08-10T15:12:24.571262Z"
    },
    "papermill": {
     "duration": 0.022168,
     "end_time": "2022-08-10T15:12:24.574534",
     "exception": false,
     "start_time": "2022-08-10T15:12:24.552366",
     "status": "completed"
    },
    "tags": []
   },
   "outputs": [
    {
     "data": {
      "text/plain": [
       "Plant Code    0\n",
       "Port          0\n",
       "dtype: int64"
      ]
     },
     "execution_count": 7,
     "metadata": {},
     "output_type": "execute_result"
    }
   ],
   "source": [
    "plant_ports.isnull().sum()"
   ]
  },
  {
   "cell_type": "code",
   "execution_count": 8,
   "id": "06347f04",
   "metadata": {
    "execution": {
     "iopub.execute_input": "2022-08-10T15:12:24.595496Z",
     "iopub.status.busy": "2022-08-10T15:12:24.595121Z",
     "iopub.status.idle": "2022-08-10T15:12:24.604209Z",
     "shell.execute_reply": "2022-08-10T15:12:24.602976Z"
    },
    "papermill": {
     "duration": 0.022606,
     "end_time": "2022-08-10T15:12:24.606668",
     "exception": false,
     "start_time": "2022-08-10T15:12:24.584062",
     "status": "completed"
    },
    "tags": []
   },
   "outputs": [
    {
     "data": {
      "text/plain": [
       "Plant Code    0\n",
       "Product ID    0\n",
       "dtype: int64"
      ]
     },
     "execution_count": 8,
     "metadata": {},
     "output_type": "execute_result"
    }
   ],
   "source": [
    "prod_per_plant.isnull().sum()"
   ]
  },
  {
   "cell_type": "code",
   "execution_count": 9,
   "id": "6b7e2c08",
   "metadata": {
    "execution": {
     "iopub.execute_input": "2022-08-10T15:12:24.628364Z",
     "iopub.status.busy": "2022-08-10T15:12:24.627976Z",
     "iopub.status.idle": "2022-08-10T15:12:24.637292Z",
     "shell.execute_reply": "2022-08-10T15:12:24.636073Z"
    },
    "papermill": {
     "duration": 0.023021,
     "end_time": "2022-08-10T15:12:24.639985",
     "exception": false,
     "start_time": "2022-08-10T15:12:24.616964",
     "status": "completed"
    },
    "tags": []
   },
   "outputs": [
    {
     "data": {
      "text/plain": [
       "Plant Code    0\n",
       "Customers     0\n",
       "dtype: int64"
      ]
     },
     "execution_count": 9,
     "metadata": {},
     "output_type": "execute_result"
    }
   ],
   "source": [
    "vmi_cust.isnull().sum()"
   ]
  },
  {
   "cell_type": "code",
   "execution_count": 10,
   "id": "3d3dfd5f",
   "metadata": {
    "execution": {
     "iopub.execute_input": "2022-08-10T15:12:24.661411Z",
     "iopub.status.busy": "2022-08-10T15:12:24.661037Z",
     "iopub.status.idle": "2022-08-10T15:12:24.669103Z",
     "shell.execute_reply": "2022-08-10T15:12:24.668247Z"
    },
    "papermill": {
     "duration": 0.021311,
     "end_time": "2022-08-10T15:12:24.671300",
     "exception": false,
     "start_time": "2022-08-10T15:12:24.649989",
     "status": "completed"
    },
    "tags": []
   },
   "outputs": [
    {
     "data": {
      "text/plain": [
       "Plant ID           0\n",
       "Daily Capacity     0\n",
       "dtype: int64"
      ]
     },
     "execution_count": 10,
     "metadata": {},
     "output_type": "execute_result"
    }
   ],
   "source": [
    "wh_cap.isnull().sum()"
   ]
  },
  {
   "cell_type": "code",
   "execution_count": 11,
   "id": "858fabbb",
   "metadata": {
    "execution": {
     "iopub.execute_input": "2022-08-10T15:12:24.693272Z",
     "iopub.status.busy": "2022-08-10T15:12:24.692873Z",
     "iopub.status.idle": "2022-08-10T15:12:24.702120Z",
     "shell.execute_reply": "2022-08-10T15:12:24.700987Z"
    },
    "papermill": {
     "duration": 0.02286,
     "end_time": "2022-08-10T15:12:24.704307",
     "exception": false,
     "start_time": "2022-08-10T15:12:24.681447",
     "status": "completed"
    },
    "tags": []
   },
   "outputs": [
    {
     "data": {
      "text/plain": [
       "WH           0\n",
       "Cost/unit    0\n",
       "dtype: int64"
      ]
     },
     "execution_count": 11,
     "metadata": {},
     "output_type": "execute_result"
    }
   ],
   "source": [
    "wh_costs.isnull().sum()"
   ]
  },
  {
   "cell_type": "code",
   "execution_count": 12,
   "id": "fbe597bd",
   "metadata": {
    "execution": {
     "iopub.execute_input": "2022-08-10T15:12:24.726939Z",
     "iopub.status.busy": "2022-08-10T15:12:24.726512Z",
     "iopub.status.idle": "2022-08-10T15:12:24.840629Z",
     "shell.execute_reply": "2022-08-10T15:12:24.839461Z"
    },
    "papermill": {
     "duration": 0.128463,
     "end_time": "2022-08-10T15:12:24.842971",
     "exception": false,
     "start_time": "2022-08-10T15:12:24.714508",
     "status": "completed"
    },
    "tags": []
   },
   "outputs": [
    {
     "data": {
      "text/html": [
       "<div>\n",
       "<style scoped>\n",
       "    .dataframe tbody tr th:only-of-type {\n",
       "        vertical-align: middle;\n",
       "    }\n",
       "\n",
       "    .dataframe tbody tr th {\n",
       "        vertical-align: top;\n",
       "    }\n",
       "\n",
       "    .dataframe thead th {\n",
       "        text-align: right;\n",
       "    }\n",
       "</style>\n",
       "<table border=\"1\" class=\"dataframe\">\n",
       "  <thead>\n",
       "    <tr style=\"text-align: right;\">\n",
       "      <th></th>\n",
       "      <th>Order Date</th>\n",
       "      <th>Order ID</th>\n",
       "      <th>Carrier</th>\n",
       "      <th>Origin Port</th>\n",
       "      <th>Destination Port</th>\n",
       "      <th>Unit quantity</th>\n",
       "      <th>Weight</th>\n",
       "      <th>origin_plant_code</th>\n",
       "      <th>destination_plant_code</th>\n",
       "    </tr>\n",
       "  </thead>\n",
       "  <tbody>\n",
       "    <tr>\n",
       "      <th>0</th>\n",
       "      <td>2013-05-26</td>\n",
       "      <td>1.447296e+09</td>\n",
       "      <td>V44_3</td>\n",
       "      <td>PORT09</td>\n",
       "      <td>PORT09</td>\n",
       "      <td>808</td>\n",
       "      <td>14.30</td>\n",
       "      <td>PLANT16</td>\n",
       "      <td>PLANT16</td>\n",
       "    </tr>\n",
       "    <tr>\n",
       "      <th>1</th>\n",
       "      <td>2013-05-26</td>\n",
       "      <td>1.447158e+09</td>\n",
       "      <td>V44_3</td>\n",
       "      <td>PORT09</td>\n",
       "      <td>PORT09</td>\n",
       "      <td>3188</td>\n",
       "      <td>87.94</td>\n",
       "      <td>PLANT16</td>\n",
       "      <td>PLANT16</td>\n",
       "    </tr>\n",
       "    <tr>\n",
       "      <th>2</th>\n",
       "      <td>2013-05-26</td>\n",
       "      <td>1.447139e+09</td>\n",
       "      <td>V44_3</td>\n",
       "      <td>PORT09</td>\n",
       "      <td>PORT09</td>\n",
       "      <td>2331</td>\n",
       "      <td>61.20</td>\n",
       "      <td>PLANT16</td>\n",
       "      <td>PLANT16</td>\n",
       "    </tr>\n",
       "    <tr>\n",
       "      <th>3</th>\n",
       "      <td>2013-05-26</td>\n",
       "      <td>1.447364e+09</td>\n",
       "      <td>V44_3</td>\n",
       "      <td>PORT09</td>\n",
       "      <td>PORT09</td>\n",
       "      <td>847</td>\n",
       "      <td>16.16</td>\n",
       "      <td>PLANT16</td>\n",
       "      <td>PLANT16</td>\n",
       "    </tr>\n",
       "    <tr>\n",
       "      <th>4</th>\n",
       "      <td>2013-05-26</td>\n",
       "      <td>1.447364e+09</td>\n",
       "      <td>V44_3</td>\n",
       "      <td>PORT09</td>\n",
       "      <td>PORT09</td>\n",
       "      <td>2163</td>\n",
       "      <td>52.34</td>\n",
       "      <td>PLANT16</td>\n",
       "      <td>PLANT16</td>\n",
       "    </tr>\n",
       "  </tbody>\n",
       "</table>\n",
       "</div>"
      ],
      "text/plain": [
       "  Order Date      Order ID Carrier Origin Port Destination Port  \\\n",
       "0 2013-05-26  1.447296e+09   V44_3      PORT09           PORT09   \n",
       "1 2013-05-26  1.447158e+09   V44_3      PORT09           PORT09   \n",
       "2 2013-05-26  1.447139e+09   V44_3      PORT09           PORT09   \n",
       "3 2013-05-26  1.447364e+09   V44_3      PORT09           PORT09   \n",
       "4 2013-05-26  1.447364e+09   V44_3      PORT09           PORT09   \n",
       "\n",
       "   Unit quantity  Weight origin_plant_code destination_plant_code  \n",
       "0            808   14.30           PLANT16                PLANT16  \n",
       "1           3188   87.94           PLANT16                PLANT16  \n",
       "2           2331   61.20           PLANT16                PLANT16  \n",
       "3            847   16.16           PLANT16                PLANT16  \n",
       "4           2163   52.34           PLANT16                PLANT16  "
      ]
     },
     "execution_count": 12,
     "metadata": {},
     "output_type": "execute_result"
    }
   ],
   "source": [
    "order = order[['Order Date','Order ID','Carrier','Origin Port','Destination Port','Unit quantity','Weight']]\n",
    "\n",
    "df_merge = pd.merge(order, plant_ports, left_on = ['Origin Port'], right_on = ['Port'])\n",
    "df_merge = df_merge.rename(columns = {'Plant Code' : 'origin_plant_code'})\n",
    "df_merge = df_merge.drop(['Port'], axis = 1)\n",
    "df_merge = pd.merge(df_merge, plant_ports, left_on = ['Destination Port'], right_on = ['Port'])\n",
    "df_merge = df_merge.drop(['Port'], axis = 1)\n",
    "df_merge = df_merge.rename(columns = {'Plant Code' : 'destination_plant_code'})\n",
    "df_merge.head()"
   ]
  },
  {
   "cell_type": "code",
   "execution_count": 13,
   "id": "fc587712",
   "metadata": {
    "execution": {
     "iopub.execute_input": "2022-08-10T15:12:24.865705Z",
     "iopub.status.busy": "2022-08-10T15:12:24.864533Z",
     "iopub.status.idle": "2022-08-10T15:12:24.898061Z",
     "shell.execute_reply": "2022-08-10T15:12:24.896617Z"
    },
    "papermill": {
     "duration": 0.047328,
     "end_time": "2022-08-10T15:12:24.900520",
     "exception": false,
     "start_time": "2022-08-10T15:12:24.853192",
     "status": "completed"
    },
    "tags": []
   },
   "outputs": [
    {
     "data": {
      "text/html": [
       "<div>\n",
       "<style scoped>\n",
       "    .dataframe tbody tr th:only-of-type {\n",
       "        vertical-align: middle;\n",
       "    }\n",
       "\n",
       "    .dataframe tbody tr th {\n",
       "        vertical-align: top;\n",
       "    }\n",
       "\n",
       "    .dataframe thead th {\n",
       "        text-align: right;\n",
       "    }\n",
       "</style>\n",
       "<table border=\"1\" class=\"dataframe\">\n",
       "  <thead>\n",
       "    <tr style=\"text-align: right;\">\n",
       "      <th></th>\n",
       "      <th>Carrier</th>\n",
       "      <th>orig_port_cd</th>\n",
       "      <th>dest_port_cd</th>\n",
       "      <th>min_wgh_qty</th>\n",
       "      <th>max_wgh_qty</th>\n",
       "      <th>rate</th>\n",
       "      <th>min_cost</th>\n",
       "    </tr>\n",
       "  </thead>\n",
       "  <tbody>\n",
       "    <tr>\n",
       "      <th>0</th>\n",
       "      <td>V444_0</td>\n",
       "      <td>PORT02</td>\n",
       "      <td>PORT09</td>\n",
       "      <td>570.000000</td>\n",
       "      <td>20569.990000</td>\n",
       "      <td>0.084480</td>\n",
       "      <td>23.838400</td>\n",
       "    </tr>\n",
       "    <tr>\n",
       "      <th>1</th>\n",
       "      <td>V444_0</td>\n",
       "      <td>PORT03</td>\n",
       "      <td>PORT09</td>\n",
       "      <td>0.000000</td>\n",
       "      <td>5000.000000</td>\n",
       "      <td>12.694200</td>\n",
       "      <td>28.944200</td>\n",
       "    </tr>\n",
       "    <tr>\n",
       "      <th>2</th>\n",
       "      <td>V444_0</td>\n",
       "      <td>PORT04</td>\n",
       "      <td>PORT09</td>\n",
       "      <td>570.000000</td>\n",
       "      <td>20569.990000</td>\n",
       "      <td>0.052000</td>\n",
       "      <td>2.477200</td>\n",
       "    </tr>\n",
       "    <tr>\n",
       "      <th>3</th>\n",
       "      <td>V444_0</td>\n",
       "      <td>PORT09</td>\n",
       "      <td>PORT09</td>\n",
       "      <td>0.000000</td>\n",
       "      <td>5000.000000</td>\n",
       "      <td>12.778400</td>\n",
       "      <td>31.278400</td>\n",
       "    </tr>\n",
       "    <tr>\n",
       "      <th>4</th>\n",
       "      <td>V444_1</td>\n",
       "      <td>PORT02</td>\n",
       "      <td>PORT09</td>\n",
       "      <td>197.556000</td>\n",
       "      <td>1190.745000</td>\n",
       "      <td>0.291140</td>\n",
       "      <td>23.557340</td>\n",
       "    </tr>\n",
       "    <tr>\n",
       "      <th>5</th>\n",
       "      <td>V444_1</td>\n",
       "      <td>PORT04</td>\n",
       "      <td>PORT09</td>\n",
       "      <td>197.556000</td>\n",
       "      <td>1190.745000</td>\n",
       "      <td>0.242000</td>\n",
       "      <td>20.909780</td>\n",
       "    </tr>\n",
       "    <tr>\n",
       "      <th>6</th>\n",
       "      <td>V444_1</td>\n",
       "      <td>PORT05</td>\n",
       "      <td>PORT09</td>\n",
       "      <td>170.130000</td>\n",
       "      <td>1001.952500</td>\n",
       "      <td>0.457895</td>\n",
       "      <td>35.954091</td>\n",
       "    </tr>\n",
       "    <tr>\n",
       "      <th>7</th>\n",
       "      <td>V444_1</td>\n",
       "      <td>PORT06</td>\n",
       "      <td>PORT09</td>\n",
       "      <td>45.473493</td>\n",
       "      <td>111.272697</td>\n",
       "      <td>2.492247</td>\n",
       "      <td>6.917300</td>\n",
       "    </tr>\n",
       "    <tr>\n",
       "      <th>8</th>\n",
       "      <td>V444_1</td>\n",
       "      <td>PORT10</td>\n",
       "      <td>PORT09</td>\n",
       "      <td>78.945000</td>\n",
       "      <td>12570.433750</td>\n",
       "      <td>0.431400</td>\n",
       "      <td>12.350850</td>\n",
       "    </tr>\n",
       "    <tr>\n",
       "      <th>9</th>\n",
       "      <td>V444_2</td>\n",
       "      <td>PORT02</td>\n",
       "      <td>PORT09</td>\n",
       "      <td>570.000000</td>\n",
       "      <td>20569.990000</td>\n",
       "      <td>0.079040</td>\n",
       "      <td>9.027200</td>\n",
       "    </tr>\n",
       "    <tr>\n",
       "      <th>10</th>\n",
       "      <td>V444_2</td>\n",
       "      <td>PORT07</td>\n",
       "      <td>PORT09</td>\n",
       "      <td>570.000000</td>\n",
       "      <td>20569.990000</td>\n",
       "      <td>0.197100</td>\n",
       "      <td>18.877200</td>\n",
       "    </tr>\n",
       "    <tr>\n",
       "      <th>11</th>\n",
       "      <td>V444_2</td>\n",
       "      <td>PORT08</td>\n",
       "      <td>PORT09</td>\n",
       "      <td>570.000000</td>\n",
       "      <td>20569.990000</td>\n",
       "      <td>0.136347</td>\n",
       "      <td>20.360533</td>\n",
       "    </tr>\n",
       "    <tr>\n",
       "      <th>12</th>\n",
       "      <td>V444_2</td>\n",
       "      <td>PORT10</td>\n",
       "      <td>PORT09</td>\n",
       "      <td>570.000000</td>\n",
       "      <td>20569.990000</td>\n",
       "      <td>0.171720</td>\n",
       "      <td>15.827200</td>\n",
       "    </tr>\n",
       "    <tr>\n",
       "      <th>13</th>\n",
       "      <td>V444_2</td>\n",
       "      <td>PORT11</td>\n",
       "      <td>PORT09</td>\n",
       "      <td>570.000000</td>\n",
       "      <td>20569.990000</td>\n",
       "      <td>0.094053</td>\n",
       "      <td>12.827200</td>\n",
       "    </tr>\n",
       "    <tr>\n",
       "      <th>14</th>\n",
       "      <td>V444_4</td>\n",
       "      <td>PORT02</td>\n",
       "      <td>PORT09</td>\n",
       "      <td>37.509934</td>\n",
       "      <td>699.751589</td>\n",
       "      <td>2.738511</td>\n",
       "      <td>6.063846</td>\n",
       "    </tr>\n",
       "    <tr>\n",
       "      <th>15</th>\n",
       "      <td>V444_4</td>\n",
       "      <td>PORT04</td>\n",
       "      <td>PORT09</td>\n",
       "      <td>37.509934</td>\n",
       "      <td>699.751589</td>\n",
       "      <td>2.880403</td>\n",
       "      <td>6.069823</td>\n",
       "    </tr>\n",
       "    <tr>\n",
       "      <th>16</th>\n",
       "      <td>V444_4</td>\n",
       "      <td>PORT05</td>\n",
       "      <td>PORT09</td>\n",
       "      <td>37.509934</td>\n",
       "      <td>699.751589</td>\n",
       "      <td>4.007359</td>\n",
       "      <td>8.438127</td>\n",
       "    </tr>\n",
       "    <tr>\n",
       "      <th>17</th>\n",
       "      <td>V444_4</td>\n",
       "      <td>PORT06</td>\n",
       "      <td>PORT09</td>\n",
       "      <td>37.509934</td>\n",
       "      <td>699.751589</td>\n",
       "      <td>2.748445</td>\n",
       "      <td>6.063846</td>\n",
       "    </tr>\n",
       "    <tr>\n",
       "      <th>18</th>\n",
       "      <td>V444_4</td>\n",
       "      <td>PORT10</td>\n",
       "      <td>PORT09</td>\n",
       "      <td>34.023906</td>\n",
       "      <td>334.411423</td>\n",
       "      <td>7.643146</td>\n",
       "      <td>7.217756</td>\n",
       "    </tr>\n",
       "    <tr>\n",
       "      <th>19</th>\n",
       "      <td>V444_5</td>\n",
       "      <td>PORT02</td>\n",
       "      <td>PORT09</td>\n",
       "      <td>570.000000</td>\n",
       "      <td>20569.990000</td>\n",
       "      <td>0.066784</td>\n",
       "      <td>5.315200</td>\n",
       "    </tr>\n",
       "    <tr>\n",
       "      <th>20</th>\n",
       "      <td>V444_5</td>\n",
       "      <td>PORT03</td>\n",
       "      <td>PORT09</td>\n",
       "      <td>0.000000</td>\n",
       "      <td>5000.000000</td>\n",
       "      <td>13.610867</td>\n",
       "      <td>28.944200</td>\n",
       "    </tr>\n",
       "    <tr>\n",
       "      <th>21</th>\n",
       "      <td>V444_5</td>\n",
       "      <td>PORT05</td>\n",
       "      <td>PORT09</td>\n",
       "      <td>570.000000</td>\n",
       "      <td>20569.990000</td>\n",
       "      <td>0.099180</td>\n",
       "      <td>9.007200</td>\n",
       "    </tr>\n",
       "    <tr>\n",
       "      <th>22</th>\n",
       "      <td>V444_5</td>\n",
       "      <td>PORT06</td>\n",
       "      <td>PORT09</td>\n",
       "      <td>570.000000</td>\n",
       "      <td>20569.990000</td>\n",
       "      <td>0.163680</td>\n",
       "      <td>14.331200</td>\n",
       "    </tr>\n",
       "    <tr>\n",
       "      <th>23</th>\n",
       "      <td>V444_5</td>\n",
       "      <td>PORT09</td>\n",
       "      <td>PORT09</td>\n",
       "      <td>0.000000</td>\n",
       "      <td>5000.000000</td>\n",
       "      <td>20.778400</td>\n",
       "      <td>31.278400</td>\n",
       "    </tr>\n",
       "    <tr>\n",
       "      <th>24</th>\n",
       "      <td>V444_6</td>\n",
       "      <td>PORT08</td>\n",
       "      <td>PORT09</td>\n",
       "      <td>177.631579</td>\n",
       "      <td>5440.779474</td>\n",
       "      <td>1.075095</td>\n",
       "      <td>43.227200</td>\n",
       "    </tr>\n",
       "    <tr>\n",
       "      <th>25</th>\n",
       "      <td>V444_6</td>\n",
       "      <td>PORT10</td>\n",
       "      <td>PORT09</td>\n",
       "      <td>177.631579</td>\n",
       "      <td>5440.779474</td>\n",
       "      <td>1.075095</td>\n",
       "      <td>43.227200</td>\n",
       "    </tr>\n",
       "    <tr>\n",
       "      <th>26</th>\n",
       "      <td>V444_7</td>\n",
       "      <td>PORT03</td>\n",
       "      <td>PORT09</td>\n",
       "      <td>0.000000</td>\n",
       "      <td>5000.000000</td>\n",
       "      <td>128.027200</td>\n",
       "      <td>425.027200</td>\n",
       "    </tr>\n",
       "    <tr>\n",
       "      <th>27</th>\n",
       "      <td>V444_8</td>\n",
       "      <td>PORT02</td>\n",
       "      <td>PORT09</td>\n",
       "      <td>570.000000</td>\n",
       "      <td>20569.990000</td>\n",
       "      <td>0.092800</td>\n",
       "      <td>23.299100</td>\n",
       "    </tr>\n",
       "    <tr>\n",
       "      <th>28</th>\n",
       "      <td>V444_8</td>\n",
       "      <td>PORT03</td>\n",
       "      <td>PORT09</td>\n",
       "      <td>570.000000</td>\n",
       "      <td>20569.990000</td>\n",
       "      <td>0.269200</td>\n",
       "      <td>25.426200</td>\n",
       "    </tr>\n",
       "    <tr>\n",
       "      <th>29</th>\n",
       "      <td>V444_8</td>\n",
       "      <td>PORT04</td>\n",
       "      <td>PORT09</td>\n",
       "      <td>570.000000</td>\n",
       "      <td>20569.990000</td>\n",
       "      <td>0.132200</td>\n",
       "      <td>27.778500</td>\n",
       "    </tr>\n",
       "    <tr>\n",
       "      <th>30</th>\n",
       "      <td>V444_8</td>\n",
       "      <td>PORT09</td>\n",
       "      <td>PORT09</td>\n",
       "      <td>570.000000</td>\n",
       "      <td>20569.990000</td>\n",
       "      <td>0.048200</td>\n",
       "      <td>23.529200</td>\n",
       "    </tr>\n",
       "    <tr>\n",
       "      <th>31</th>\n",
       "      <td>V444_8</td>\n",
       "      <td>PORT11</td>\n",
       "      <td>PORT09</td>\n",
       "      <td>570.000000</td>\n",
       "      <td>20569.990000</td>\n",
       "      <td>0.165160</td>\n",
       "      <td>17.875200</td>\n",
       "    </tr>\n",
       "    <tr>\n",
       "      <th>32</th>\n",
       "      <td>V444_9</td>\n",
       "      <td>PORT08</td>\n",
       "      <td>PORT09</td>\n",
       "      <td>3300.000000</td>\n",
       "      <td>23299.990000</td>\n",
       "      <td>0.125520</td>\n",
       "      <td>231.307200</td>\n",
       "    </tr>\n",
       "  </tbody>\n",
       "</table>\n",
       "</div>"
      ],
      "text/plain": [
       "   Carrier orig_port_cd dest_port_cd  min_wgh_qty   max_wgh_qty        rate  \\\n",
       "0   V444_0       PORT02       PORT09   570.000000  20569.990000    0.084480   \n",
       "1   V444_0       PORT03       PORT09     0.000000   5000.000000   12.694200   \n",
       "2   V444_0       PORT04       PORT09   570.000000  20569.990000    0.052000   \n",
       "3   V444_0       PORT09       PORT09     0.000000   5000.000000   12.778400   \n",
       "4   V444_1       PORT02       PORT09   197.556000   1190.745000    0.291140   \n",
       "5   V444_1       PORT04       PORT09   197.556000   1190.745000    0.242000   \n",
       "6   V444_1       PORT05       PORT09   170.130000   1001.952500    0.457895   \n",
       "7   V444_1       PORT06       PORT09    45.473493    111.272697    2.492247   \n",
       "8   V444_1       PORT10       PORT09    78.945000  12570.433750    0.431400   \n",
       "9   V444_2       PORT02       PORT09   570.000000  20569.990000    0.079040   \n",
       "10  V444_2       PORT07       PORT09   570.000000  20569.990000    0.197100   \n",
       "11  V444_2       PORT08       PORT09   570.000000  20569.990000    0.136347   \n",
       "12  V444_2       PORT10       PORT09   570.000000  20569.990000    0.171720   \n",
       "13  V444_2       PORT11       PORT09   570.000000  20569.990000    0.094053   \n",
       "14  V444_4       PORT02       PORT09    37.509934    699.751589    2.738511   \n",
       "15  V444_4       PORT04       PORT09    37.509934    699.751589    2.880403   \n",
       "16  V444_4       PORT05       PORT09    37.509934    699.751589    4.007359   \n",
       "17  V444_4       PORT06       PORT09    37.509934    699.751589    2.748445   \n",
       "18  V444_4       PORT10       PORT09    34.023906    334.411423    7.643146   \n",
       "19  V444_5       PORT02       PORT09   570.000000  20569.990000    0.066784   \n",
       "20  V444_5       PORT03       PORT09     0.000000   5000.000000   13.610867   \n",
       "21  V444_5       PORT05       PORT09   570.000000  20569.990000    0.099180   \n",
       "22  V444_5       PORT06       PORT09   570.000000  20569.990000    0.163680   \n",
       "23  V444_5       PORT09       PORT09     0.000000   5000.000000   20.778400   \n",
       "24  V444_6       PORT08       PORT09   177.631579   5440.779474    1.075095   \n",
       "25  V444_6       PORT10       PORT09   177.631579   5440.779474    1.075095   \n",
       "26  V444_7       PORT03       PORT09     0.000000   5000.000000  128.027200   \n",
       "27  V444_8       PORT02       PORT09   570.000000  20569.990000    0.092800   \n",
       "28  V444_8       PORT03       PORT09   570.000000  20569.990000    0.269200   \n",
       "29  V444_8       PORT04       PORT09   570.000000  20569.990000    0.132200   \n",
       "30  V444_8       PORT09       PORT09   570.000000  20569.990000    0.048200   \n",
       "31  V444_8       PORT11       PORT09   570.000000  20569.990000    0.165160   \n",
       "32  V444_9       PORT08       PORT09  3300.000000  23299.990000    0.125520   \n",
       "\n",
       "      min_cost  \n",
       "0    23.838400  \n",
       "1    28.944200  \n",
       "2     2.477200  \n",
       "3    31.278400  \n",
       "4    23.557340  \n",
       "5    20.909780  \n",
       "6    35.954091  \n",
       "7     6.917300  \n",
       "8    12.350850  \n",
       "9     9.027200  \n",
       "10   18.877200  \n",
       "11   20.360533  \n",
       "12   15.827200  \n",
       "13   12.827200  \n",
       "14    6.063846  \n",
       "15    6.069823  \n",
       "16    8.438127  \n",
       "17    6.063846  \n",
       "18    7.217756  \n",
       "19    5.315200  \n",
       "20   28.944200  \n",
       "21    9.007200  \n",
       "22   14.331200  \n",
       "23   31.278400  \n",
       "24   43.227200  \n",
       "25   43.227200  \n",
       "26  425.027200  \n",
       "27   23.299100  \n",
       "28   25.426200  \n",
       "29   27.778500  \n",
       "30   23.529200  \n",
       "31   17.875200  \n",
       "32  231.307200  "
      ]
     },
     "execution_count": 13,
     "metadata": {},
     "output_type": "execute_result"
    }
   ],
   "source": [
    "freight_new = freight.groupby(['Carrier','orig_port_cd','dest_port_cd']).agg({\n",
    "    'minm_wgh_qty' : lambda x : sum(x)/len(x),\n",
    "    'max_wgh_qty' : lambda x : sum(x)/len(x),\n",
    "    'rate' : lambda x : sum(x)/len(x),\n",
    "    'minimum cost' : lambda x : sum(x)/len(x)\n",
    "}).reset_index().rename(columns = {'minimum cost' : 'min_cost','minm_wgh_qty' : 'min_wgh_qty'})\n",
    "\n",
    "freight_new"
   ]
  },
  {
   "cell_type": "code",
   "execution_count": 14,
   "id": "71c246e8",
   "metadata": {
    "execution": {
     "iopub.execute_input": "2022-08-10T15:12:24.924710Z",
     "iopub.status.busy": "2022-08-10T15:12:24.923496Z",
     "iopub.status.idle": "2022-08-10T15:12:24.943307Z",
     "shell.execute_reply": "2022-08-10T15:12:24.942223Z"
    },
    "papermill": {
     "duration": 0.033984,
     "end_time": "2022-08-10T15:12:24.945482",
     "exception": false,
     "start_time": "2022-08-10T15:12:24.911498",
     "status": "completed"
    },
    "tags": []
   },
   "outputs": [
    {
     "data": {
      "text/plain": [
       "[[2.0], [8.0], [24.0]]"
      ]
     },
     "execution_count": 14,
     "metadata": {},
     "output_type": "execute_result"
    }
   ],
   "source": [
    "#Generate Cost Between Origin and Destination\n",
    "\n",
    "#From PORT02 to PORT11 in chronological order w/ the same destination to PORT09\n",
    "cost = freight_new.groupby(['orig_port_cd','dest_port_cd'])['min_cost'].min().unstack()\n",
    "cost = round(cost,0)\n",
    "cost = cost[cost.index.isin(df_merge['Origin Port'])]\n",
    "cost_pulp = cost.to_numpy().tolist()\n",
    "cost_pulp"
   ]
  },
  {
   "cell_type": "code",
   "execution_count": 15,
   "id": "c3c7a5d7",
   "metadata": {
    "execution": {
     "iopub.execute_input": "2022-08-10T15:12:24.969379Z",
     "iopub.status.busy": "2022-08-10T15:12:24.968594Z",
     "iopub.status.idle": "2022-08-10T15:12:24.978152Z",
     "shell.execute_reply": "2022-08-10T15:12:24.977318Z"
    },
    "papermill": {
     "duration": 0.024142,
     "end_time": "2022-08-10T15:12:24.980502",
     "exception": false,
     "start_time": "2022-08-10T15:12:24.956360",
     "status": "completed"
    },
    "tags": []
   },
   "outputs": [
    {
     "data": {
      "text/html": [
       "<div>\n",
       "<style scoped>\n",
       "    .dataframe tbody tr th:only-of-type {\n",
       "        vertical-align: middle;\n",
       "    }\n",
       "\n",
       "    .dataframe tbody tr th {\n",
       "        vertical-align: top;\n",
       "    }\n",
       "\n",
       "    .dataframe thead th {\n",
       "        text-align: right;\n",
       "    }\n",
       "</style>\n",
       "<table border=\"1\" class=\"dataframe\">\n",
       "  <thead>\n",
       "    <tr style=\"text-align: right;\">\n",
       "      <th>dest_port_cd</th>\n",
       "      <th>PORT09</th>\n",
       "    </tr>\n",
       "    <tr>\n",
       "      <th>orig_port_cd</th>\n",
       "      <th></th>\n",
       "    </tr>\n",
       "  </thead>\n",
       "  <tbody>\n",
       "    <tr>\n",
       "      <th>PORT04</th>\n",
       "      <td>2.0</td>\n",
       "    </tr>\n",
       "    <tr>\n",
       "      <th>PORT05</th>\n",
       "      <td>8.0</td>\n",
       "    </tr>\n",
       "    <tr>\n",
       "      <th>PORT09</th>\n",
       "      <td>24.0</td>\n",
       "    </tr>\n",
       "  </tbody>\n",
       "</table>\n",
       "</div>"
      ],
      "text/plain": [
       "dest_port_cd  PORT09\n",
       "orig_port_cd        \n",
       "PORT04           2.0\n",
       "PORT05           8.0\n",
       "PORT09          24.0"
      ]
     },
     "execution_count": 15,
     "metadata": {},
     "output_type": "execute_result"
    }
   ],
   "source": [
    "cost"
   ]
  },
  {
   "cell_type": "code",
   "execution_count": 16,
   "id": "802d9c5a",
   "metadata": {
    "execution": {
     "iopub.execute_input": "2022-08-10T15:12:25.006808Z",
     "iopub.status.busy": "2022-08-10T15:12:25.006024Z",
     "iopub.status.idle": "2022-08-10T15:12:25.016183Z",
     "shell.execute_reply": "2022-08-10T15:12:25.015407Z"
    },
    "papermill": {
     "duration": 0.025992,
     "end_time": "2022-08-10T15:12:25.018498",
     "exception": false,
     "start_time": "2022-08-10T15:12:24.992506",
     "status": "completed"
    },
    "tags": []
   },
   "outputs": [
    {
     "data": {
      "text/html": [
       "<div>\n",
       "<style scoped>\n",
       "    .dataframe tbody tr th:only-of-type {\n",
       "        vertical-align: middle;\n",
       "    }\n",
       "\n",
       "    .dataframe tbody tr th {\n",
       "        vertical-align: top;\n",
       "    }\n",
       "\n",
       "    .dataframe thead th {\n",
       "        text-align: right;\n",
       "    }\n",
       "</style>\n",
       "<table border=\"1\" class=\"dataframe\">\n",
       "  <thead>\n",
       "    <tr style=\"text-align: right;\">\n",
       "      <th></th>\n",
       "      <th>Plant ID</th>\n",
       "      <th>Daily Capacity</th>\n",
       "    </tr>\n",
       "  </thead>\n",
       "  <tbody>\n",
       "    <tr>\n",
       "      <th>0</th>\n",
       "      <td>PLANT15</td>\n",
       "      <td>11</td>\n",
       "    </tr>\n",
       "    <tr>\n",
       "      <th>1</th>\n",
       "      <td>PLANT17</td>\n",
       "      <td>8</td>\n",
       "    </tr>\n",
       "    <tr>\n",
       "      <th>2</th>\n",
       "      <td>PLANT18</td>\n",
       "      <td>111</td>\n",
       "    </tr>\n",
       "    <tr>\n",
       "      <th>3</th>\n",
       "      <td>PLANT05</td>\n",
       "      <td>385</td>\n",
       "    </tr>\n",
       "    <tr>\n",
       "      <th>4</th>\n",
       "      <td>PLANT02</td>\n",
       "      <td>138</td>\n",
       "    </tr>\n",
       "    <tr>\n",
       "      <th>5</th>\n",
       "      <td>PLANT01</td>\n",
       "      <td>1070</td>\n",
       "    </tr>\n",
       "    <tr>\n",
       "      <th>6</th>\n",
       "      <td>PLANT06</td>\n",
       "      <td>49</td>\n",
       "    </tr>\n",
       "    <tr>\n",
       "      <th>7</th>\n",
       "      <td>PLANT10</td>\n",
       "      <td>118</td>\n",
       "    </tr>\n",
       "    <tr>\n",
       "      <th>8</th>\n",
       "      <td>PLANT07</td>\n",
       "      <td>265</td>\n",
       "    </tr>\n",
       "    <tr>\n",
       "      <th>9</th>\n",
       "      <td>PLANT14</td>\n",
       "      <td>549</td>\n",
       "    </tr>\n",
       "    <tr>\n",
       "      <th>10</th>\n",
       "      <td>PLANT16</td>\n",
       "      <td>457</td>\n",
       "    </tr>\n",
       "    <tr>\n",
       "      <th>11</th>\n",
       "      <td>PLANT12</td>\n",
       "      <td>209</td>\n",
       "    </tr>\n",
       "    <tr>\n",
       "      <th>12</th>\n",
       "      <td>PLANT11</td>\n",
       "      <td>332</td>\n",
       "    </tr>\n",
       "    <tr>\n",
       "      <th>13</th>\n",
       "      <td>PLANT09</td>\n",
       "      <td>11</td>\n",
       "    </tr>\n",
       "    <tr>\n",
       "      <th>14</th>\n",
       "      <td>PLANT03</td>\n",
       "      <td>1013</td>\n",
       "    </tr>\n",
       "    <tr>\n",
       "      <th>15</th>\n",
       "      <td>PLANT13</td>\n",
       "      <td>490</td>\n",
       "    </tr>\n",
       "    <tr>\n",
       "      <th>16</th>\n",
       "      <td>PLANT19</td>\n",
       "      <td>7</td>\n",
       "    </tr>\n",
       "    <tr>\n",
       "      <th>17</th>\n",
       "      <td>PLANT08</td>\n",
       "      <td>14</td>\n",
       "    </tr>\n",
       "    <tr>\n",
       "      <th>18</th>\n",
       "      <td>PLANT04</td>\n",
       "      <td>554</td>\n",
       "    </tr>\n",
       "  </tbody>\n",
       "</table>\n",
       "</div>"
      ],
      "text/plain": [
       "   Plant ID  Daily Capacity \n",
       "0   PLANT15               11\n",
       "1   PLANT17                8\n",
       "2   PLANT18              111\n",
       "3   PLANT05              385\n",
       "4   PLANT02              138\n",
       "5   PLANT01             1070\n",
       "6   PLANT06               49\n",
       "7   PLANT10              118\n",
       "8   PLANT07              265\n",
       "9   PLANT14              549\n",
       "10  PLANT16              457\n",
       "11  PLANT12              209\n",
       "12  PLANT11              332\n",
       "13  PLANT09               11\n",
       "14  PLANT03             1013\n",
       "15  PLANT13              490\n",
       "16  PLANT19                7\n",
       "17  PLANT08               14\n",
       "18  PLANT04              554"
      ]
     },
     "execution_count": 16,
     "metadata": {},
     "output_type": "execute_result"
    }
   ],
   "source": [
    "wh_cap"
   ]
  },
  {
   "cell_type": "code",
   "execution_count": 17,
   "id": "a5e7a260",
   "metadata": {
    "execution": {
     "iopub.execute_input": "2022-08-10T15:12:25.044404Z",
     "iopub.status.busy": "2022-08-10T15:12:25.043648Z",
     "iopub.status.idle": "2022-08-10T15:12:25.108820Z",
     "shell.execute_reply": "2022-08-10T15:12:25.107653Z"
    },
    "papermill": {
     "duration": 0.081387,
     "end_time": "2022-08-10T15:12:25.111437",
     "exception": false,
     "start_time": "2022-08-10T15:12:25.030050",
     "status": "completed"
    },
    "tags": []
   },
   "outputs": [
    {
     "data": {
      "text/html": [
       "<div>\n",
       "<style scoped>\n",
       "    .dataframe tbody tr th:only-of-type {\n",
       "        vertical-align: middle;\n",
       "    }\n",
       "\n",
       "    .dataframe tbody tr th {\n",
       "        vertical-align: top;\n",
       "    }\n",
       "\n",
       "    .dataframe thead th {\n",
       "        text-align: right;\n",
       "    }\n",
       "</style>\n",
       "<table border=\"1\" class=\"dataframe\">\n",
       "  <thead>\n",
       "    <tr style=\"text-align: right;\">\n",
       "      <th></th>\n",
       "      <th>Destination Port</th>\n",
       "      <th>Order Date</th>\n",
       "      <th>avg_qty</th>\n",
       "      <th>avg_weight</th>\n",
       "    </tr>\n",
       "  </thead>\n",
       "  <tbody>\n",
       "    <tr>\n",
       "      <th>0</th>\n",
       "      <td>PORT09</td>\n",
       "      <td>1</td>\n",
       "      <td>205120319.0</td>\n",
       "      <td>1088803.0</td>\n",
       "    </tr>\n",
       "  </tbody>\n",
       "</table>\n",
       "</div>"
      ],
      "text/plain": [
       "  Destination Port  Order Date      avg_qty  avg_weight\n",
       "0           PORT09           1  205120319.0   1088803.0"
      ]
     },
     "execution_count": 17,
     "metadata": {},
     "output_type": "execute_result"
    }
   ],
   "source": [
    "origins = df_merge['Origin Port'].unique().tolist()\n",
    "origins = sorted(origins)\n",
    "destinations = df_merge['Destination Port'].unique().tolist()\n",
    "\n",
    "df_origin = df_merge.groupby(['Origin Port']).agg({\n",
    "    'Order ID' : 'nunique',\n",
    "    'Order Date' : 'nunique',\n",
    "    'Unit quantity' : 'sum',\n",
    "    'Weight' : 'sum'\n",
    "}).reset_index()\n",
    "\n",
    "df_origin['avg_qty'] = round(df_origin['Unit quantity']/df_origin['Order Date'],0)\n",
    "df_origin['avg_weight'] = round(df_origin['Weight']/df_origin['Order Date'],0)\n",
    "df_origin = df_origin.drop(['Order ID','Unit quantity','Weight'], axis = 1)\n",
    "\n",
    "\n",
    "df_dest = df_merge.groupby(['Destination Port']).agg({\n",
    "    'Order ID' : 'nunique',\n",
    "    'Order Date' : 'nunique',\n",
    "    'Unit quantity' : 'sum',\n",
    "    'Weight' : 'sum'\n",
    "}).reset_index()\n",
    "\n",
    "df_dest['avg_qty'] = round(df_dest['Unit quantity']/df_dest['Order Date'],0)\n",
    "df_dest['avg_weight'] = round(df_dest['Weight']/df_dest['Order Date'],0)\n",
    "df_dest = df_dest.drop(['Order ID','Unit quantity','Weight'], axis = 1)\n",
    "\n",
    "df_dest"
   ]
  },
  {
   "cell_type": "code",
   "execution_count": 18,
   "id": "900c30c5",
   "metadata": {
    "execution": {
     "iopub.execute_input": "2022-08-10T15:12:25.136723Z",
     "iopub.status.busy": "2022-08-10T15:12:25.135988Z",
     "iopub.status.idle": "2022-08-10T15:12:25.147061Z",
     "shell.execute_reply": "2022-08-10T15:12:25.146090Z"
    },
    "papermill": {
     "duration": 0.026267,
     "end_time": "2022-08-10T15:12:25.149318",
     "exception": false,
     "start_time": "2022-08-10T15:12:25.123051",
     "status": "completed"
    },
    "tags": []
   },
   "outputs": [
    {
     "data": {
      "text/html": [
       "<div>\n",
       "<style scoped>\n",
       "    .dataframe tbody tr th:only-of-type {\n",
       "        vertical-align: middle;\n",
       "    }\n",
       "\n",
       "    .dataframe tbody tr th {\n",
       "        vertical-align: top;\n",
       "    }\n",
       "\n",
       "    .dataframe thead th {\n",
       "        text-align: right;\n",
       "    }\n",
       "</style>\n",
       "<table border=\"1\" class=\"dataframe\">\n",
       "  <thead>\n",
       "    <tr style=\"text-align: right;\">\n",
       "      <th></th>\n",
       "      <th>Origin Port</th>\n",
       "      <th>Order Date</th>\n",
       "      <th>avg_qty</th>\n",
       "      <th>avg_weight</th>\n",
       "    </tr>\n",
       "  </thead>\n",
       "  <tbody>\n",
       "    <tr>\n",
       "      <th>0</th>\n",
       "      <td>PORT04</td>\n",
       "      <td>1</td>\n",
       "      <td>204874838.0</td>\n",
       "      <td>1056632.0</td>\n",
       "    </tr>\n",
       "    <tr>\n",
       "      <th>1</th>\n",
       "      <td>PORT05</td>\n",
       "      <td>1</td>\n",
       "      <td>348.0</td>\n",
       "      <td>2.0</td>\n",
       "    </tr>\n",
       "    <tr>\n",
       "      <th>2</th>\n",
       "      <td>PORT09</td>\n",
       "      <td>1</td>\n",
       "      <td>245133.0</td>\n",
       "      <td>32168.0</td>\n",
       "    </tr>\n",
       "  </tbody>\n",
       "</table>\n",
       "</div>"
      ],
      "text/plain": [
       "  Origin Port  Order Date      avg_qty  avg_weight\n",
       "0      PORT04           1  204874838.0   1056632.0\n",
       "1      PORT05           1        348.0         2.0\n",
       "2      PORT09           1     245133.0     32168.0"
      ]
     },
     "execution_count": 18,
     "metadata": {},
     "output_type": "execute_result"
    }
   ],
   "source": [
    "df_origin"
   ]
  },
  {
   "cell_type": "code",
   "execution_count": 19,
   "id": "6d56db5c",
   "metadata": {
    "execution": {
     "iopub.execute_input": "2022-08-10T15:12:25.176774Z",
     "iopub.status.busy": "2022-08-10T15:12:25.176056Z",
     "iopub.status.idle": "2022-08-10T15:12:25.183029Z",
     "shell.execute_reply": "2022-08-10T15:12:25.182112Z"
    },
    "papermill": {
     "duration": 0.024183,
     "end_time": "2022-08-10T15:12:25.185725",
     "exception": false,
     "start_time": "2022-08-10T15:12:25.161542",
     "status": "completed"
    },
    "tags": []
   },
   "outputs": [
    {
     "name": "stdout",
     "output_type": "stream",
     "text": [
      "All Origin Nodes : ['PORT04', 'PORT05', 'PORT09']\n",
      "Origin Supply : {'PORT04': 1056632.0, 'PORT05': 2.0, 'PORT09': 32168.0}\n",
      "All Destination Nodes : ['PORT09']\n",
      "Destination Demand : {'PORT09': 1088803.0}\n",
      "Costs From Origin to Destination : [[2.0], [8.0], [24.0]]\n"
     ]
    }
   ],
   "source": [
    "supply = dict(zip(df_origin['Origin Port'],df_origin['avg_weight']))\n",
    "demand = dict(zip(df_dest['Destination Port'], df_dest['avg_weight']))\n",
    "\n",
    "#All Variables for Routing Optimization \n",
    "# supply['PORT04'] = 1013\n",
    "# supply['PORT05'] = 385\n",
    "# supply['PORT09'] = 457\n",
    "# demand['PORT09'] = 457\n",
    "print(f'All Origin Nodes : {origins}')\n",
    "print(f'Origin Supply : {supply}')\n",
    "print(f'All Destination Nodes : {destinations}')\n",
    "print(f'Destination Demand : {demand}')\n",
    "print(f'Costs From Origin to Destination : {cost_pulp}')\n",
    "\n"
   ]
  },
  {
   "cell_type": "code",
   "execution_count": 20,
   "id": "e666c1e3",
   "metadata": {
    "execution": {
     "iopub.execute_input": "2022-08-10T15:12:25.212279Z",
     "iopub.status.busy": "2022-08-10T15:12:25.211094Z",
     "iopub.status.idle": "2022-08-10T15:12:25.271000Z",
     "shell.execute_reply": "2022-08-10T15:12:25.269276Z"
    },
    "papermill": {
     "duration": 0.075473,
     "end_time": "2022-08-10T15:12:25.273408",
     "exception": false,
     "start_time": "2022-08-10T15:12:25.197935",
     "status": "completed"
    },
    "tags": []
   },
   "outputs": [
    {
     "name": "stderr",
     "output_type": "stream",
     "text": [
      "/opt/conda/lib/python3.7/site-packages/pulp/pulp.py:1352: UserWarning: Spaces are not permitted in the name. Converted to '_'\n",
      "  warnings.warn(\"Spaces are not permitted in the name. Converted to '_'\")\n"
     ]
    },
    {
     "data": {
      "text/plain": [
       "Port_Distribution_Problem:\n",
       "MINIMIZE\n",
       "2.0*route_PORT04_PORT09 + 8.0*route_PORT05_PORT09 + 24.0*route_PORT09_PORT09 + 0.0\n",
       "VARIABLES\n",
       "0 <= route_PORT04_PORT09 Integer\n",
       "0 <= route_PORT05_PORT09 Integer\n",
       "0 <= route_PORT09_PORT09 Integer"
      ]
     },
     "execution_count": 20,
     "metadata": {},
     "output_type": "execute_result"
    }
   ],
   "source": [
    "from pulp import *\n",
    "\n",
    "costs = makeDict([origins,destinations], cost_pulp, 0)\n",
    "prob = LpProblem(\"Port Distribution Problem\", LpMinimize)\n",
    "\n",
    "routes = [(o,d) for o in origins for d in destinations]\n",
    "\n",
    "vars = LpVariable.dicts(\"route\", (origins,destinations), 0 , None, LpInteger)\n",
    "\n",
    "prob += (\n",
    "lpSum([vars[o][d] * costs[o][d] for (o,d) in routes]),\n",
    "\"Sum of Transporting Costs\"\n",
    ")\n",
    "\n",
    "prob"
   ]
  },
  {
   "cell_type": "code",
   "execution_count": 21,
   "id": "42c16b00",
   "metadata": {
    "execution": {
     "iopub.execute_input": "2022-08-10T15:12:25.299295Z",
     "iopub.status.busy": "2022-08-10T15:12:25.298872Z",
     "iopub.status.idle": "2022-08-10T15:12:25.306404Z",
     "shell.execute_reply": "2022-08-10T15:12:25.305237Z"
    },
    "papermill": {
     "duration": 0.023495,
     "end_time": "2022-08-10T15:12:25.309152",
     "exception": false,
     "start_time": "2022-08-10T15:12:25.285657",
     "status": "completed"
    },
    "tags": []
   },
   "outputs": [],
   "source": [
    "#Supply Max Constraints from each Origins Node\n",
    "\n",
    "for o in origins :\n",
    "    prob += (\n",
    "    lpSum([vars[o][d] for d in destinations]) <= supply[o],\n",
    "        \"Sum_of_Weight_of_Goods_out_of_Origin_Ports_%s\" % o,\n",
    "    )\n",
    "    \n",
    "for d in destinations :\n",
    "    prob += (\n",
    "    lpSum([vars[o][d] for o in origins]) >= demand[d],\n",
    "        \"Sum_of_Weight_of_Goods_into_Destination_Ports_%s\" % d,\n",
    "    )"
   ]
  },
  {
   "cell_type": "code",
   "execution_count": 22,
   "id": "af35bc73",
   "metadata": {
    "execution": {
     "iopub.execute_input": "2022-08-10T15:12:25.334703Z",
     "iopub.status.busy": "2022-08-10T15:12:25.334282Z",
     "iopub.status.idle": "2022-08-10T15:12:25.432037Z",
     "shell.execute_reply": "2022-08-10T15:12:25.430836Z"
    },
    "papermill": {
     "duration": 0.113326,
     "end_time": "2022-08-10T15:12:25.434523",
     "exception": false,
     "start_time": "2022-08-10T15:12:25.321197",
     "status": "completed"
    },
    "tags": []
   },
   "outputs": [
    {
     "name": "stdout",
     "output_type": "stream",
     "text": [
      "Welcome to the CBC MILP Solver \n",
      "Version: 2.10.3 \n",
      "Build Date: Dec 15 2019 \n",
      "\n",
      "command line - /opt/conda/lib/python3.7/site-packages/pulp/apis/../solverdir/cbc/linux/64/cbc /tmp/a7014ebebfb54290973a3b7d85a2337e-pulp.mps timeMode elapsed branch printingOptions all solution /tmp/a7014ebebfb54290973a3b7d85a2337e-pulp.sol (default strategy 1)\n",
      "At line 2 NAME          MODEL\n",
      "At line 3 ROWS\n",
      "At line 9 COLUMNS\n",
      "At line 25 RHS\n",
      "At line 30 BOUNDS\n",
      "At line 34 ENDATA\n",
      "Problem MODEL has 4 rows, 3 columns and 6 elements\n",
      "Coin0008I MODEL read with 0 errors\n",
      "Option for timeMode changed from cpu to elapsed\n",
      "Problem is infeasible - 0.00 seconds\n",
      "Option for printingOptions changed from normal to all\n",
      "Total time (CPU seconds):       0.00   (Wallclock seconds):       0.01\n",
      "\n",
      "route_PORT04_PORT09 : 1056632.0\n",
      "route_PORT05_PORT09 : 2.0\n",
      "route_PORT09_PORT09 : 32169.0\n"
     ]
    }
   ],
   "source": [
    "prob.solve()\n",
    "for v in prob.variables() :\n",
    "    print(f'{v} : {v.varValue}')"
   ]
  },
  {
   "cell_type": "markdown",
   "id": "5901e795",
   "metadata": {
    "papermill": {
     "duration": 0.011626,
     "end_time": "2022-08-10T15:12:25.458321",
     "exception": false,
     "start_time": "2022-08-10T15:12:25.446695",
     "status": "completed"
    },
    "tags": []
   },
   "source": [
    "# Supply Chain Distribution Version 2"
   ]
  },
  {
   "cell_type": "code",
   "execution_count": 23,
   "id": "94850381",
   "metadata": {
    "execution": {
     "iopub.execute_input": "2022-08-10T15:12:25.487194Z",
     "iopub.status.busy": "2022-08-10T15:12:25.486301Z",
     "iopub.status.idle": "2022-08-10T15:12:25.506029Z",
     "shell.execute_reply": "2022-08-10T15:12:25.504882Z"
    },
    "papermill": {
     "duration": 0.038378,
     "end_time": "2022-08-10T15:12:25.508600",
     "exception": false,
     "start_time": "2022-08-10T15:12:25.470222",
     "status": "completed"
    },
    "tags": []
   },
   "outputs": [
    {
     "data": {
      "text/plain": [
       "[[60.0],\n",
       " [222.0],\n",
       " [52.0],\n",
       " [107.0],\n",
       " [60.0],\n",
       " [16.0],\n",
       " [125.0],\n",
       " [24.0],\n",
       " [33.0],\n",
       " [18.0]]"
      ]
     },
     "execution_count": 23,
     "metadata": {},
     "output_type": "execute_result"
    }
   ],
   "source": [
    "cost_2 = freight.groupby(['orig_port_cd','dest_port_cd']).agg({\n",
    "    'minimum cost' : lambda x : round((x.max() + x.min())/2,0)\n",
    "}).unstack()\n",
    "\n",
    "cost_pulp_2 = cost_2['minimum cost'].to_numpy().tolist()\n",
    "cost_pulp_2"
   ]
  },
  {
   "cell_type": "code",
   "execution_count": 24,
   "id": "06bdded4",
   "metadata": {
    "execution": {
     "iopub.execute_input": "2022-08-10T15:12:25.534951Z",
     "iopub.status.busy": "2022-08-10T15:12:25.533836Z",
     "iopub.status.idle": "2022-08-10T15:12:25.549684Z",
     "shell.execute_reply": "2022-08-10T15:12:25.548820Z"
    },
    "papermill": {
     "duration": 0.031373,
     "end_time": "2022-08-10T15:12:25.552038",
     "exception": false,
     "start_time": "2022-08-10T15:12:25.520665",
     "status": "completed"
    },
    "tags": []
   },
   "outputs": [
    {
     "data": {
      "text/html": [
       "<div>\n",
       "<style scoped>\n",
       "    .dataframe tbody tr th:only-of-type {\n",
       "        vertical-align: middle;\n",
       "    }\n",
       "\n",
       "    .dataframe tbody tr th {\n",
       "        vertical-align: top;\n",
       "    }\n",
       "\n",
       "    .dataframe thead th {\n",
       "        text-align: right;\n",
       "    }\n",
       "</style>\n",
       "<table border=\"1\" class=\"dataframe\">\n",
       "  <thead>\n",
       "    <tr style=\"text-align: right;\">\n",
       "      <th></th>\n",
       "      <th>Port</th>\n",
       "      <th>Plant Code</th>\n",
       "    </tr>\n",
       "  </thead>\n",
       "  <tbody>\n",
       "    <tr>\n",
       "      <th>0</th>\n",
       "      <td>PORT02</td>\n",
       "      <td>PLANT01</td>\n",
       "    </tr>\n",
       "    <tr>\n",
       "      <th>6</th>\n",
       "      <td>PORT02</td>\n",
       "      <td>PLANT07</td>\n",
       "    </tr>\n",
       "    <tr>\n",
       "      <th>9</th>\n",
       "      <td>PORT02</td>\n",
       "      <td>PLANT10</td>\n",
       "    </tr>\n",
       "    <tr>\n",
       "      <th>1</th>\n",
       "      <td>PORT03</td>\n",
       "      <td>PLANT02</td>\n",
       "    </tr>\n",
       "    <tr>\n",
       "      <th>7</th>\n",
       "      <td>PORT04</td>\n",
       "      <td>PLANT08</td>\n",
       "    </tr>\n",
       "    <tr>\n",
       "      <th>8</th>\n",
       "      <td>PORT04</td>\n",
       "      <td>PLANT09</td>\n",
       "    </tr>\n",
       "    <tr>\n",
       "      <th>10</th>\n",
       "      <td>PORT04</td>\n",
       "      <td>PLANT11</td>\n",
       "    </tr>\n",
       "    <tr>\n",
       "      <th>11</th>\n",
       "      <td>PORT04</td>\n",
       "      <td>PLANT12</td>\n",
       "    </tr>\n",
       "    <tr>\n",
       "      <th>12</th>\n",
       "      <td>PORT04</td>\n",
       "      <td>PLANT13</td>\n",
       "    </tr>\n",
       "    <tr>\n",
       "      <th>2</th>\n",
       "      <td>PORT04</td>\n",
       "      <td>PLANT03</td>\n",
       "    </tr>\n",
       "    <tr>\n",
       "      <th>18</th>\n",
       "      <td>PORT04</td>\n",
       "      <td>PLANT19</td>\n",
       "    </tr>\n",
       "    <tr>\n",
       "      <th>3</th>\n",
       "      <td>PORT05</td>\n",
       "      <td>PLANT04</td>\n",
       "    </tr>\n",
       "    <tr>\n",
       "      <th>4</th>\n",
       "      <td>PORT06</td>\n",
       "      <td>PLANT05</td>\n",
       "    </tr>\n",
       "    <tr>\n",
       "      <th>5</th>\n",
       "      <td>PORT06</td>\n",
       "      <td>PLANT06</td>\n",
       "    </tr>\n",
       "    <tr>\n",
       "      <th>13</th>\n",
       "      <td>PORT07</td>\n",
       "      <td>PLANT14</td>\n",
       "    </tr>\n",
       "    <tr>\n",
       "      <th>14</th>\n",
       "      <td>PORT08</td>\n",
       "      <td>PLANT15</td>\n",
       "    </tr>\n",
       "    <tr>\n",
       "      <th>15</th>\n",
       "      <td>PORT09</td>\n",
       "      <td>PLANT16</td>\n",
       "    </tr>\n",
       "    <tr>\n",
       "      <th>16</th>\n",
       "      <td>PORT10</td>\n",
       "      <td>PLANT17</td>\n",
       "    </tr>\n",
       "    <tr>\n",
       "      <th>17</th>\n",
       "      <td>PORT11</td>\n",
       "      <td>PLANT18</td>\n",
       "    </tr>\n",
       "  </tbody>\n",
       "</table>\n",
       "</div>"
      ],
      "text/plain": [
       "      Port Plant Code\n",
       "0   PORT02    PLANT01\n",
       "6   PORT02    PLANT07\n",
       "9   PORT02    PLANT10\n",
       "1   PORT03    PLANT02\n",
       "7   PORT04    PLANT08\n",
       "8   PORT04    PLANT09\n",
       "10  PORT04    PLANT11\n",
       "11  PORT04    PLANT12\n",
       "12  PORT04    PLANT13\n",
       "2   PORT04    PLANT03\n",
       "18  PORT04    PLANT19\n",
       "3   PORT05    PLANT04\n",
       "4   PORT06    PLANT05\n",
       "5   PORT06    PLANT06\n",
       "13  PORT07    PLANT14\n",
       "14  PORT08    PLANT15\n",
       "15  PORT09    PLANT16\n",
       "16  PORT10    PLANT17\n",
       "17  PORT11    PLANT18"
      ]
     },
     "execution_count": 24,
     "metadata": {},
     "output_type": "execute_result"
    }
   ],
   "source": [
    "plant_ports_filtered = plant_ports.set_index('Port')\n",
    "plant_ports_filtered = plant_ports_filtered[plant_ports_filtered.index.isin(cost_2.index)]\n",
    "pp_filtered = plant_ports_filtered.reset_index().sort_values(by = 'Port')\n",
    "pp_filtered"
   ]
  },
  {
   "cell_type": "code",
   "execution_count": 25,
   "id": "3f38b13b",
   "metadata": {
    "execution": {
     "iopub.execute_input": "2022-08-10T15:12:25.578639Z",
     "iopub.status.busy": "2022-08-10T15:12:25.577900Z",
     "iopub.status.idle": "2022-08-10T15:12:25.595838Z",
     "shell.execute_reply": "2022-08-10T15:12:25.594792Z"
    },
    "papermill": {
     "duration": 0.033715,
     "end_time": "2022-08-10T15:12:25.598089",
     "exception": false,
     "start_time": "2022-08-10T15:12:25.564374",
     "status": "completed"
    },
    "tags": []
   },
   "outputs": [
    {
     "data": {
      "text/html": [
       "<div>\n",
       "<style scoped>\n",
       "    .dataframe tbody tr th:only-of-type {\n",
       "        vertical-align: middle;\n",
       "    }\n",
       "\n",
       "    .dataframe tbody tr th {\n",
       "        vertical-align: top;\n",
       "    }\n",
       "\n",
       "    .dataframe thead th {\n",
       "        text-align: right;\n",
       "    }\n",
       "</style>\n",
       "<table border=\"1\" class=\"dataframe\">\n",
       "  <thead>\n",
       "    <tr style=\"text-align: right;\">\n",
       "      <th></th>\n",
       "      <th>Port</th>\n",
       "      <th>Daily Capacity</th>\n",
       "    </tr>\n",
       "  </thead>\n",
       "  <tbody>\n",
       "    <tr>\n",
       "      <th>0</th>\n",
       "      <td>PORT02</td>\n",
       "      <td>1453</td>\n",
       "    </tr>\n",
       "    <tr>\n",
       "      <th>1</th>\n",
       "      <td>PORT03</td>\n",
       "      <td>138</td>\n",
       "    </tr>\n",
       "    <tr>\n",
       "      <th>2</th>\n",
       "      <td>PORT04</td>\n",
       "      <td>2076</td>\n",
       "    </tr>\n",
       "    <tr>\n",
       "      <th>3</th>\n",
       "      <td>PORT05</td>\n",
       "      <td>554</td>\n",
       "    </tr>\n",
       "    <tr>\n",
       "      <th>4</th>\n",
       "      <td>PORT06</td>\n",
       "      <td>434</td>\n",
       "    </tr>\n",
       "    <tr>\n",
       "      <th>5</th>\n",
       "      <td>PORT07</td>\n",
       "      <td>549</td>\n",
       "    </tr>\n",
       "    <tr>\n",
       "      <th>6</th>\n",
       "      <td>PORT08</td>\n",
       "      <td>11</td>\n",
       "    </tr>\n",
       "    <tr>\n",
       "      <th>7</th>\n",
       "      <td>PORT09</td>\n",
       "      <td>457</td>\n",
       "    </tr>\n",
       "    <tr>\n",
       "      <th>8</th>\n",
       "      <td>PORT10</td>\n",
       "      <td>8</td>\n",
       "    </tr>\n",
       "    <tr>\n",
       "      <th>9</th>\n",
       "      <td>PORT11</td>\n",
       "      <td>111</td>\n",
       "    </tr>\n",
       "  </tbody>\n",
       "</table>\n",
       "</div>"
      ],
      "text/plain": [
       "     Port  Daily Capacity \n",
       "0  PORT02             1453\n",
       "1  PORT03              138\n",
       "2  PORT04             2076\n",
       "3  PORT05              554\n",
       "4  PORT06              434\n",
       "5  PORT07              549\n",
       "6  PORT08               11\n",
       "7  PORT09              457\n",
       "8  PORT10                8\n",
       "9  PORT11              111"
      ]
     },
     "execution_count": 25,
     "metadata": {},
     "output_type": "execute_result"
    }
   ],
   "source": [
    "pp_merged = pd.merge(pp_filtered, wh_cap, left_on = ['Plant Code'], right_on = ['Plant ID'], how = 'left')\n",
    "pp_merged = pp_merged.drop(['Plant ID'], axis = 1)\n",
    "pp_sum = pp_merged.groupby(['Port'])['Daily Capacity '].sum().reset_index()\n",
    "pp_sum"
   ]
  },
  {
   "cell_type": "code",
   "execution_count": 26,
   "id": "a7ac96c9",
   "metadata": {
    "execution": {
     "iopub.execute_input": "2022-08-10T15:12:25.625120Z",
     "iopub.status.busy": "2022-08-10T15:12:25.624386Z",
     "iopub.status.idle": "2022-08-10T15:12:25.633556Z",
     "shell.execute_reply": "2022-08-10T15:12:25.632678Z"
    },
    "papermill": {
     "duration": 0.025274,
     "end_time": "2022-08-10T15:12:25.635804",
     "exception": false,
     "start_time": "2022-08-10T15:12:25.610530",
     "status": "completed"
    },
    "tags": []
   },
   "outputs": [
    {
     "data": {
      "text/plain": [
       "7    0.078916\n",
       "Name: Daily Capacity , dtype: float64"
      ]
     },
     "execution_count": 26,
     "metadata": {},
     "output_type": "execute_result"
    }
   ],
   "source": [
    "perc_needed = pp_sum[pp_sum['Port'] == 'PORT09']['Daily Capacity ']/sum(pp_sum['Daily Capacity '])\n",
    "perc_needed"
   ]
  },
  {
   "cell_type": "code",
   "execution_count": 27,
   "id": "73df13a1",
   "metadata": {
    "execution": {
     "iopub.execute_input": "2022-08-10T15:12:25.663147Z",
     "iopub.status.busy": "2022-08-10T15:12:25.662707Z",
     "iopub.status.idle": "2022-08-10T15:12:25.670265Z",
     "shell.execute_reply": "2022-08-10T15:12:25.669109Z"
    },
    "papermill": {
     "duration": 0.024289,
     "end_time": "2022-08-10T15:12:25.672674",
     "exception": false,
     "start_time": "2022-08-10T15:12:25.648385",
     "status": "completed"
    },
    "tags": []
   },
   "outputs": [
    {
     "data": {
      "text/plain": [
       "Index(['Port', 'Plant Code', 'Daily Capacity '], dtype='object')"
      ]
     },
     "execution_count": 27,
     "metadata": {},
     "output_type": "execute_result"
    }
   ],
   "source": [
    "pp_merged.columns"
   ]
  },
  {
   "cell_type": "code",
   "execution_count": 28,
   "id": "0da9a8c3",
   "metadata": {
    "execution": {
     "iopub.execute_input": "2022-08-10T15:12:25.700638Z",
     "iopub.status.busy": "2022-08-10T15:12:25.699852Z",
     "iopub.status.idle": "2022-08-10T15:12:25.717080Z",
     "shell.execute_reply": "2022-08-10T15:12:25.715900Z"
    },
    "papermill": {
     "duration": 0.034082,
     "end_time": "2022-08-10T15:12:25.719528",
     "exception": false,
     "start_time": "2022-08-10T15:12:25.685446",
     "status": "completed"
    },
    "tags": []
   },
   "outputs": [
    {
     "data": {
      "text/plain": [
       "['PORT02',\n",
       " 'PORT03',\n",
       " 'PORT04',\n",
       " 'PORT05',\n",
       " 'PORT06',\n",
       " 'PORT07',\n",
       " 'PORT08',\n",
       " 'PORT09',\n",
       " 'PORT10',\n",
       " 'PORT11']"
      ]
     },
     "execution_count": 28,
     "metadata": {},
     "output_type": "execute_result"
    }
   ],
   "source": [
    "f_origin = freight[['orig_port_cd']].drop_duplicates().sort_values(by = 'orig_port_cd')\n",
    "f_dest = freight[['dest_port_cd']].drop_duplicates().sort_values(by = 'dest_port_cd')\n",
    "\n",
    "f_origin = pd.merge(f_origin, pp_sum, left_on = 'orig_port_cd', right_on = 'Port', how = 'left')\n",
    "f_origin = f_origin[['orig_port_cd','Daily Capacity ']]\n",
    "\n",
    "f_origin_list = f_origin['orig_port_cd'].tolist()\n",
    "f_origin_list"
   ]
  },
  {
   "cell_type": "code",
   "execution_count": 29,
   "id": "e517fe41",
   "metadata": {
    "execution": {
     "iopub.execute_input": "2022-08-10T15:12:25.747053Z",
     "iopub.status.busy": "2022-08-10T15:12:25.746269Z",
     "iopub.status.idle": "2022-08-10T15:12:25.757169Z",
     "shell.execute_reply": "2022-08-10T15:12:25.756209Z"
    },
    "papermill": {
     "duration": 0.027191,
     "end_time": "2022-08-10T15:12:25.759428",
     "exception": false,
     "start_time": "2022-08-10T15:12:25.732237",
     "status": "completed"
    },
    "tags": []
   },
   "outputs": [
    {
     "data": {
      "text/plain": [
       "['PORT09']"
      ]
     },
     "execution_count": 29,
     "metadata": {},
     "output_type": "execute_result"
    }
   ],
   "source": [
    "f_dest = pd.merge(f_dest, pp_sum, left_on = 'dest_port_cd', right_on = 'Port', how = 'left')\n",
    "f_dest = f_dest[['dest_port_cd','Daily Capacity ']]\n",
    "f_dest\n",
    "\n",
    "f_dest_list = f_dest['dest_port_cd'].tolist()\n",
    "f_dest_list"
   ]
  },
  {
   "cell_type": "code",
   "execution_count": 30,
   "id": "f5090935",
   "metadata": {
    "execution": {
     "iopub.execute_input": "2022-08-10T15:12:25.786972Z",
     "iopub.status.busy": "2022-08-10T15:12:25.786558Z",
     "iopub.status.idle": "2022-08-10T15:12:25.795551Z",
     "shell.execute_reply": "2022-08-10T15:12:25.794392Z"
    },
    "papermill": {
     "duration": 0.025726,
     "end_time": "2022-08-10T15:12:25.797942",
     "exception": false,
     "start_time": "2022-08-10T15:12:25.772216",
     "status": "completed"
    },
    "tags": []
   },
   "outputs": [
    {
     "data": {
      "text/plain": [
       "{'PORT02': 1453.0,\n",
       " 'PORT03': 138.0,\n",
       " 'PORT04': 2076.0,\n",
       " 'PORT05': 554.0,\n",
       " 'PORT06': 434.0,\n",
       " 'PORT07': 549.0,\n",
       " 'PORT08': 11.0,\n",
       " 'PORT09': 457.0,\n",
       " 'PORT10': 8.0,\n",
       " 'PORT11': 111.0}"
      ]
     },
     "execution_count": 30,
     "metadata": {},
     "output_type": "execute_result"
    }
   ],
   "source": [
    "origin_cap = dict(zip(f_origin['orig_port_cd'], f_origin['Daily Capacity '].astype('float')))\n",
    "dest_cap = dict(zip(f_dest['dest_port_cd'], f_dest['Daily Capacity '].astype('float')))\n",
    "\n",
    "origin_cap"
   ]
  },
  {
   "cell_type": "code",
   "execution_count": 31,
   "id": "39864a58",
   "metadata": {
    "execution": {
     "iopub.execute_input": "2022-08-10T15:12:25.825840Z",
     "iopub.status.busy": "2022-08-10T15:12:25.825422Z",
     "iopub.status.idle": "2022-08-10T15:12:25.831897Z",
     "shell.execute_reply": "2022-08-10T15:12:25.830772Z"
    },
    "papermill": {
     "duration": 0.023392,
     "end_time": "2022-08-10T15:12:25.834290",
     "exception": false,
     "start_time": "2022-08-10T15:12:25.810898",
     "status": "completed"
    },
    "tags": []
   },
   "outputs": [
    {
     "data": {
      "text/plain": [
       "{'PORT09': 457.0}"
      ]
     },
     "execution_count": 31,
     "metadata": {},
     "output_type": "execute_result"
    }
   ],
   "source": [
    "dest_cap"
   ]
  },
  {
   "cell_type": "code",
   "execution_count": 32,
   "id": "1dc4f4f6",
   "metadata": {
    "execution": {
     "iopub.execute_input": "2022-08-10T15:12:25.862461Z",
     "iopub.status.busy": "2022-08-10T15:12:25.861670Z",
     "iopub.status.idle": "2022-08-10T15:12:25.899435Z",
     "shell.execute_reply": "2022-08-10T15:12:25.896315Z"
    },
    "papermill": {
     "duration": 0.054844,
     "end_time": "2022-08-10T15:12:25.902126",
     "exception": false,
     "start_time": "2022-08-10T15:12:25.847282",
     "status": "completed"
    },
    "tags": []
   },
   "outputs": [
    {
     "name": "stdout",
     "output_type": "stream",
     "text": [
      "Welcome to the CBC MILP Solver \n",
      "Version: 2.10.3 \n",
      "Build Date: Dec 15 2019 \n",
      "\n",
      "command line - /opt/conda/lib/python3.7/site-packages/pulp/apis/../solverdir/cbc/linux/64/cbc /tmp/22887825a09948a3a0897509b01780fa-pulp.mps timeMode elapsed branch printingOptions all solution /tmp/22887825a09948a3a0897509b01780fa-pulp.sol (default strategy 1)\n",
      "At line 2 NAME          MODEL\n",
      "At line 3 ROWS\n",
      "At line 16 COLUMNS\n",
      "At line 67 RHS\n",
      "At line 79 BOUNDS\n",
      "At line 90 ENDATA\n",
      "Problem MODEL has 11 rows, 10 columns and 20 elements\n",
      "Coin0008I MODEL read with 0 errors\n",
      "Option for timeMode changed from cpu to elapsed\n",
      "Continuous objective value is 7312 - 0.00 seconds\n",
      "Cgl0004I processed model has 1 rows, 10 columns (10 integer (0 of which binary)) and 10 elements\n",
      "Cutoff increment increased from 1e-05 to 0.9999\n",
      "Cbc0012I Integer solution of 7312 found by greedy cover after 0 iterations and 0 nodes (0.01 seconds)\n",
      "Cbc0001I Search completed - best objective 7312, took 0 iterations and 0 nodes (0.01 seconds)\n",
      "Cbc0035I Maximum depth 0, 0 variables fixed on reduced cost\n",
      "Cuts at root node changed objective from 7312 to 7312\n",
      "Probing was tried 0 times and created 0 cuts of which 0 were active after adding rounds of cuts (0.000 seconds)\n",
      "Gomory was tried 0 times and created 0 cuts of which 0 were active after adding rounds of cuts (0.000 seconds)\n",
      "Knapsack was tried 0 times and created 0 cuts of which 0 were active after adding rounds of cuts (0.000 seconds)\n",
      "Clique was tried 0 times and created 0 cuts of which 0 were active after adding rounds of cuts (0.000 seconds)\n",
      "MixedIntegerRounding2 was tried 0 times and created 0 cuts of which 0 were active after adding rounds of cuts (0.000 seconds)\n",
      "FlowCover was tried 0 times and created 0 cuts of which 0 were active after adding rounds of cuts (0.000 seconds)\n",
      "TwoMirCuts was tried 0 times and created 0 cuts of which 0 were active after adding rounds of cuts (0.000 seconds)\n",
      "ZeroHalf was tried 0 times and created 0 cuts of which 0 were active after adding rounds of cuts (0.000 seconds)\n",
      "\n",
      "Result - Optimal solution found\n",
      "\n",
      "Objective value:                7312.00000000\n",
      "Enumerated nodes:               0\n",
      "Total iterations:               0\n",
      "Time (CPU seconds):             0.00\n",
      "Time (Wallclock seconds):       0.01\n",
      "\n",
      "Option for printingOptions changed from normal to all\n",
      "Total time (CPU seconds):       0.00   (Wallclock seconds):       0.01\n",
      "\n",
      "route_PORT02_PORT09 : 0.0\n",
      "route_PORT03_PORT09 : 0.0\n",
      "route_PORT04_PORT09 : 0.0\n",
      "route_PORT05_PORT09 : 0.0\n",
      "route_PORT06_PORT09 : 0.0\n",
      "route_PORT07_PORT09 : 457.0\n",
      "route_PORT08_PORT09 : 0.0\n",
      "route_PORT09_PORT09 : 0.0\n",
      "route_PORT10_PORT09 : 0.0\n",
      "route_PORT11_PORT09 : 0.0\n"
     ]
    },
    {
     "name": "stderr",
     "output_type": "stream",
     "text": [
      "/opt/conda/lib/python3.7/site-packages/pulp/pulp.py:1352: UserWarning: Spaces are not permitted in the name. Converted to '_'\n",
      "  warnings.warn(\"Spaces are not permitted in the name. Converted to '_'\")\n"
     ]
    }
   ],
   "source": [
    "problem_statement = LpProblem(\"Port Distribution Problem\", LpMinimize)\n",
    "\n",
    "variables = LpVariable.dicts(\"route\", (f_origin_list,f_dest_list), 0 , None, LpInteger)\n",
    "\n",
    "routes = [(o,d) for o in f_origin_list for d in f_dest_list]\n",
    "\n",
    "costs = makeDict([f_origin_list,f_dest_list], cost_pulp_2, 0)\n",
    "\n",
    "problem_statement += (\n",
    "lpSum([variables[o][d] * costs[o][d] for (o,d) in routes]),\n",
    "    \"Sum_of_Transporting_Costs\"\n",
    ")\n",
    "\n",
    "\n",
    "for o in f_origin_list :\n",
    "    problem_statement += (\n",
    "    lpSum([variables[o][d] for d in f_dest_list]) <= origin_cap[o],\n",
    "        \"Sum_of_Weight_out_of_Port_%s\" %o,\n",
    "    )\n",
    "    \n",
    "for d in f_dest_list :\n",
    "    problem_statement += (\n",
    "    lpSum([variables[o][d] for o in f_origin_list]) >= dest_cap[d],\n",
    "        \"Sum_of_Weight_in_Port_%s\" %d\n",
    "    )\n",
    "    \n",
    "problem_statement.solve()    \n",
    "    \n",
    "for a in problem_statement.variables():\n",
    "    print(f'{a} : {a.varValue}')"
   ]
  },
  {
   "cell_type": "code",
   "execution_count": null,
   "id": "f15acac6",
   "metadata": {
    "papermill": {
     "duration": 0.013532,
     "end_time": "2022-08-10T15:12:25.929611",
     "exception": false,
     "start_time": "2022-08-10T15:12:25.916079",
     "status": "completed"
    },
    "tags": []
   },
   "outputs": [],
   "source": []
  }
 ],
 "metadata": {
  "kernelspec": {
   "display_name": "Python 3",
   "language": "python",
   "name": "python3"
  },
  "language_info": {
   "codemirror_mode": {
    "name": "ipython",
    "version": 3
   },
   "file_extension": ".py",
   "mimetype": "text/x-python",
   "name": "python",
   "nbconvert_exporter": "python",
   "pygments_lexer": "ipython3",
   "version": "3.7.12"
  },
  "papermill": {
   "default_parameters": {},
   "duration": 28.800547,
   "end_time": "2022-08-10T15:12:26.666191",
   "environment_variables": {},
   "exception": null,
   "input_path": "__notebook__.ipynb",
   "output_path": "__notebook__.ipynb",
   "parameters": {},
   "start_time": "2022-08-10T15:11:57.865644",
   "version": "2.3.4"
  }
 },
 "nbformat": 4,
 "nbformat_minor": 5
}
